{
  "nbformat": 4,
  "nbformat_minor": 0,
  "metadata": {
    "colab": {
      "provenance": []
    },
    "kernelspec": {
      "name": "python3",
      "display_name": "Python 3"
    },
    "language_info": {
      "name": "python"
    }
  },
  "cells": [
    {
      "cell_type": "code",
      "execution_count": 34,
      "metadata": {
        "colab": {
          "base_uri": "https://localhost:8080/"
        },
        "id": "iaYWUdGizezF",
        "outputId": "81bf549d-b3bf-4ab2-b7b0-199a794b9ea2"
      },
      "outputs": [
        {
          "output_type": "stream",
          "name": "stdout",
          "text": [
            "      Name  Age          City  Salary Department\n",
            "0    Alice   25      New York   70000         HR\n",
            "1      Bob   30   Los Angeles   80000         IT\n",
            "2  Charlie   35       Chicago   65000         IT\n",
            "3    Diana   40       Houston   90000  Marketing\n",
            "4   Edward   45       Phoenix   85000      Sales\n",
            "5    Fiona   50  Philadelphia   75000         HR\n",
            "6   George   55   San Antonio   72000         IT\n",
            "7   Hannah   60     San Diego   78000  Marketing\n",
            "8      Ian   65        Dallas   69000      Sales\n",
            "9    Julia   70      San Jose   71000         HR\n"
          ]
        }
      ],
      "source": [
        "import pandas as pd\n",
        "\n",
        "data = {\n",
        "    'Name': ['Alice', 'Bob', 'Charlie', 'Diana', 'Edward', 'Fiona', 'George', 'Hannah', 'Ian', 'Julia'],\n",
        "    'Age': [25, 30, 35, 40, 45, 50, 55, 60, 65, 70],\n",
        "    'City': ['New York', 'Los Angeles', 'Chicago', 'Houston', 'Phoenix', 'Philadelphia', 'San Antonio', 'San Diego', 'Dallas', 'San Jose'],\n",
        "    'Salary': [70000, 80000, 65000, 90000, 85000, 75000, 72000, 78000, 69000, 71000],\n",
        "    'Department': ['HR', 'IT', 'IT', 'Marketing', 'Sales', 'HR', 'IT', 'Marketing', 'Sales', 'HR']\n",
        "}\n",
        "\n",
        "df = pd.DataFrame(data)\n",
        "print(df)"
      ]
    },
    {
      "cell_type": "code",
      "source": [
        "print(df.loc[[0, 4, 7, 8]])"
      ],
      "metadata": {
        "colab": {
          "base_uri": "https://localhost:8080/"
        },
        "id": "gnPIQ7Ht0ZLu",
        "outputId": "8b77898d-be38-48d2-cb34-f1087385b8f1"
      },
      "execution_count": 35,
      "outputs": [
        {
          "output_type": "stream",
          "name": "stdout",
          "text": [
            "     Name  Age       City  Salary Department\n",
            "0   Alice   25   New York   70000         HR\n",
            "4  Edward   45    Phoenix   85000      Sales\n",
            "7  Hannah   60  San Diego   78000  Marketing\n",
            "8     Ian   65     Dallas   69000      Sales\n"
          ]
        }
      ]
    },
    {
      "cell_type": "code",
      "source": [
        "print(df.loc[3:7])"
      ],
      "metadata": {
        "colab": {
          "base_uri": "https://localhost:8080/"
        },
        "id": "atYHFFq00fcE",
        "outputId": "7fd11341-fcae-4c41-db87-f6bf733d1f93"
      },
      "execution_count": 36,
      "outputs": [
        {
          "output_type": "stream",
          "name": "stdout",
          "text": [
            "     Name  Age          City  Salary Department\n",
            "3   Diana   40       Houston   90000  Marketing\n",
            "4  Edward   45       Phoenix   85000      Sales\n",
            "5   Fiona   50  Philadelphia   75000         HR\n",
            "6  George   55   San Antonio   72000         IT\n",
            "7  Hannah   60     San Diego   78000  Marketing\n"
          ]
        }
      ]
    },
    {
      "cell_type": "code",
      "source": [
        "print(df.iloc[4:9, 2:5])"
      ],
      "metadata": {
        "colab": {
          "base_uri": "https://localhost:8080/"
        },
        "id": "NhSSI3nO0hJz",
        "outputId": "e45a4596-9c5e-4a03-f718-b76635f8f147"
      },
      "execution_count": 37,
      "outputs": [
        {
          "output_type": "stream",
          "name": "stdout",
          "text": [
            "           City  Salary Department\n",
            "4       Phoenix   85000      Sales\n",
            "5  Philadelphia   75000         HR\n",
            "6   San Antonio   72000         IT\n",
            "7     San Diego   78000  Marketing\n",
            "8        Dallas   69000      Sales\n"
          ]
        }
      ]
    },
    {
      "cell_type": "code",
      "source": [
        "print(df.iloc[:, 1:4])"
      ],
      "metadata": {
        "colab": {
          "base_uri": "https://localhost:8080/"
        },
        "id": "FYDErzBy0juC",
        "outputId": "cc1ced0d-34cc-4034-9fad-11d512295f98"
      },
      "execution_count": 38,
      "outputs": [
        {
          "output_type": "stream",
          "name": "stdout",
          "text": [
            "   Age          City  Salary\n",
            "0   25      New York   70000\n",
            "1   30   Los Angeles   80000\n",
            "2   35       Chicago   65000\n",
            "3   40       Houston   90000\n",
            "4   45       Phoenix   85000\n",
            "5   50  Philadelphia   75000\n",
            "6   55   San Antonio   72000\n",
            "7   60     San Diego   78000\n",
            "8   65        Dallas   69000\n",
            "9   70      San Jose   71000\n"
          ]
        }
      ]
    },
    {
      "cell_type": "code",
      "source": [
        "from google.colab import files\n",
        "uploaded = files.upload()"
      ],
      "metadata": {
        "colab": {
          "base_uri": "https://localhost:8080/",
          "height": 70
        },
        "id": "4HrXxwrj1Pei",
        "outputId": "76da1e0d-d97b-4a79-ac45-ff8e02d18f05"
      },
      "execution_count": 42,
      "outputs": [
        {
          "output_type": "display_data",
          "data": {
            "text/plain": [
              "<IPython.core.display.HTML object>"
            ],
            "text/html": [
              "\n",
              "     <input type=\"file\" id=\"files-14ddd65f-8b91-4f05-805a-19cbe43f004c\" name=\"files[]\" multiple disabled\n",
              "        style=\"border:none\" />\n",
              "     <output id=\"result-14ddd65f-8b91-4f05-805a-19cbe43f004c\">\n",
              "      Upload widget is only available when the cell has been executed in the\n",
              "      current browser session. Please rerun this cell to enable.\n",
              "      </output>\n",
              "      <script>// Copyright 2017 Google LLC\n",
              "//\n",
              "// Licensed under the Apache License, Version 2.0 (the \"License\");\n",
              "// you may not use this file except in compliance with the License.\n",
              "// You may obtain a copy of the License at\n",
              "//\n",
              "//      http://www.apache.org/licenses/LICENSE-2.0\n",
              "//\n",
              "// Unless required by applicable law or agreed to in writing, software\n",
              "// distributed under the License is distributed on an \"AS IS\" BASIS,\n",
              "// WITHOUT WARRANTIES OR CONDITIONS OF ANY KIND, either express or implied.\n",
              "// See the License for the specific language governing permissions and\n",
              "// limitations under the License.\n",
              "\n",
              "/**\n",
              " * @fileoverview Helpers for google.colab Python module.\n",
              " */\n",
              "(function(scope) {\n",
              "function span(text, styleAttributes = {}) {\n",
              "  const element = document.createElement('span');\n",
              "  element.textContent = text;\n",
              "  for (const key of Object.keys(styleAttributes)) {\n",
              "    element.style[key] = styleAttributes[key];\n",
              "  }\n",
              "  return element;\n",
              "}\n",
              "\n",
              "// Max number of bytes which will be uploaded at a time.\n",
              "const MAX_PAYLOAD_SIZE = 100 * 1024;\n",
              "\n",
              "function _uploadFiles(inputId, outputId) {\n",
              "  const steps = uploadFilesStep(inputId, outputId);\n",
              "  const outputElement = document.getElementById(outputId);\n",
              "  // Cache steps on the outputElement to make it available for the next call\n",
              "  // to uploadFilesContinue from Python.\n",
              "  outputElement.steps = steps;\n",
              "\n",
              "  return _uploadFilesContinue(outputId);\n",
              "}\n",
              "\n",
              "// This is roughly an async generator (not supported in the browser yet),\n",
              "// where there are multiple asynchronous steps and the Python side is going\n",
              "// to poll for completion of each step.\n",
              "// This uses a Promise to block the python side on completion of each step,\n",
              "// then passes the result of the previous step as the input to the next step.\n",
              "function _uploadFilesContinue(outputId) {\n",
              "  const outputElement = document.getElementById(outputId);\n",
              "  const steps = outputElement.steps;\n",
              "\n",
              "  const next = steps.next(outputElement.lastPromiseValue);\n",
              "  return Promise.resolve(next.value.promise).then((value) => {\n",
              "    // Cache the last promise value to make it available to the next\n",
              "    // step of the generator.\n",
              "    outputElement.lastPromiseValue = value;\n",
              "    return next.value.response;\n",
              "  });\n",
              "}\n",
              "\n",
              "/**\n",
              " * Generator function which is called between each async step of the upload\n",
              " * process.\n",
              " * @param {string} inputId Element ID of the input file picker element.\n",
              " * @param {string} outputId Element ID of the output display.\n",
              " * @return {!Iterable<!Object>} Iterable of next steps.\n",
              " */\n",
              "function* uploadFilesStep(inputId, outputId) {\n",
              "  const inputElement = document.getElementById(inputId);\n",
              "  inputElement.disabled = false;\n",
              "\n",
              "  const outputElement = document.getElementById(outputId);\n",
              "  outputElement.innerHTML = '';\n",
              "\n",
              "  const pickedPromise = new Promise((resolve) => {\n",
              "    inputElement.addEventListener('change', (e) => {\n",
              "      resolve(e.target.files);\n",
              "    });\n",
              "  });\n",
              "\n",
              "  const cancel = document.createElement('button');\n",
              "  inputElement.parentElement.appendChild(cancel);\n",
              "  cancel.textContent = 'Cancel upload';\n",
              "  const cancelPromise = new Promise((resolve) => {\n",
              "    cancel.onclick = () => {\n",
              "      resolve(null);\n",
              "    };\n",
              "  });\n",
              "\n",
              "  // Wait for the user to pick the files.\n",
              "  const files = yield {\n",
              "    promise: Promise.race([pickedPromise, cancelPromise]),\n",
              "    response: {\n",
              "      action: 'starting',\n",
              "    }\n",
              "  };\n",
              "\n",
              "  cancel.remove();\n",
              "\n",
              "  // Disable the input element since further picks are not allowed.\n",
              "  inputElement.disabled = true;\n",
              "\n",
              "  if (!files) {\n",
              "    return {\n",
              "      response: {\n",
              "        action: 'complete',\n",
              "      }\n",
              "    };\n",
              "  }\n",
              "\n",
              "  for (const file of files) {\n",
              "    const li = document.createElement('li');\n",
              "    li.append(span(file.name, {fontWeight: 'bold'}));\n",
              "    li.append(span(\n",
              "        `(${file.type || 'n/a'}) - ${file.size} bytes, ` +\n",
              "        `last modified: ${\n",
              "            file.lastModifiedDate ? file.lastModifiedDate.toLocaleDateString() :\n",
              "                                    'n/a'} - `));\n",
              "    const percent = span('0% done');\n",
              "    li.appendChild(percent);\n",
              "\n",
              "    outputElement.appendChild(li);\n",
              "\n",
              "    const fileDataPromise = new Promise((resolve) => {\n",
              "      const reader = new FileReader();\n",
              "      reader.onload = (e) => {\n",
              "        resolve(e.target.result);\n",
              "      };\n",
              "      reader.readAsArrayBuffer(file);\n",
              "    });\n",
              "    // Wait for the data to be ready.\n",
              "    let fileData = yield {\n",
              "      promise: fileDataPromise,\n",
              "      response: {\n",
              "        action: 'continue',\n",
              "      }\n",
              "    };\n",
              "\n",
              "    // Use a chunked sending to avoid message size limits. See b/62115660.\n",
              "    let position = 0;\n",
              "    do {\n",
              "      const length = Math.min(fileData.byteLength - position, MAX_PAYLOAD_SIZE);\n",
              "      const chunk = new Uint8Array(fileData, position, length);\n",
              "      position += length;\n",
              "\n",
              "      const base64 = btoa(String.fromCharCode.apply(null, chunk));\n",
              "      yield {\n",
              "        response: {\n",
              "          action: 'append',\n",
              "          file: file.name,\n",
              "          data: base64,\n",
              "        },\n",
              "      };\n",
              "\n",
              "      let percentDone = fileData.byteLength === 0 ?\n",
              "          100 :\n",
              "          Math.round((position / fileData.byteLength) * 100);\n",
              "      percent.textContent = `${percentDone}% done`;\n",
              "\n",
              "    } while (position < fileData.byteLength);\n",
              "  }\n",
              "\n",
              "  // All done.\n",
              "  yield {\n",
              "    response: {\n",
              "      action: 'complete',\n",
              "    }\n",
              "  };\n",
              "}\n",
              "\n",
              "scope.google = scope.google || {};\n",
              "scope.google.colab = scope.google.colab || {};\n",
              "scope.google.colab._files = {\n",
              "  _uploadFiles,\n",
              "  _uploadFilesContinue,\n",
              "};\n",
              "})(self);\n",
              "</script> "
            ]
          },
          "metadata": {}
        },
        {
          "output_type": "stream",
          "name": "stdout",
          "text": [
            "Saving Iris.csv to Iris.csv\n"
          ]
        }
      ]
    },
    {
      "cell_type": "code",
      "source": [
        "import pandas as pd\n",
        "import io\n",
        "\n",
        "iris_df = pd.read_csv(io.BytesIO(uploaded['Iris.csv']))\n",
        "print(iris_df.head())"
      ],
      "metadata": {
        "colab": {
          "base_uri": "https://localhost:8080/"
        },
        "id": "IMoO1zhI25b4",
        "outputId": "e58c9ff6-9b1c-458c-bfc1-9a0612b74e7f"
      },
      "execution_count": 43,
      "outputs": [
        {
          "output_type": "stream",
          "name": "stdout",
          "text": [
            "   Id  SepalLengthCm  SepalWidthCm  PetalLengthCm  PetalWidthCm      Species\n",
            "0   1            5.1           3.5            1.4           0.2  Iris-setosa\n",
            "1   2            4.9           3.0            1.4           0.2  Iris-setosa\n",
            "2   3            4.7           3.2            1.3           0.2  Iris-setosa\n",
            "3   4            4.6           3.1            1.5           0.2  Iris-setosa\n",
            "4   5            5.0           3.6            1.4           0.2  Iris-setosa\n"
          ]
        }
      ]
    },
    {
      "cell_type": "code",
      "source": [
        "iris_df = iris_df.drop(4)\n",
        "iris_df = iris_df.drop(iris_df.columns[3], axis=1)\n",
        "print(iris_df.head())"
      ],
      "metadata": {
        "colab": {
          "base_uri": "https://localhost:8080/"
        },
        "id": "dr8VtSYh3QEu",
        "outputId": "4372b7db-a244-475c-f1d7-e23ab5531bee"
      },
      "execution_count": 44,
      "outputs": [
        {
          "output_type": "stream",
          "name": "stdout",
          "text": [
            "   Id  SepalLengthCm  SepalWidthCm  PetalWidthCm      Species\n",
            "0   1            5.1           3.5           0.2  Iris-setosa\n",
            "1   2            4.9           3.0           0.2  Iris-setosa\n",
            "2   3            4.7           3.2           0.2  Iris-setosa\n",
            "3   4            4.6           3.1           0.2  Iris-setosa\n",
            "5   6            5.4           3.9           0.4  Iris-setosa\n"
          ]
        }
      ]
    },
    {
      "cell_type": "code",
      "source": [
        "emp_data = {\n",
        "    'Employee_ID': [101, 102, 103, 104, 105],\n",
        "    'Name': ['Alice', 'Bob', 'Charlie', 'Diana', 'Edward'],\n",
        "    'Department': ['HR', 'IT', 'IT', 'Marketing', 'Sales'],\n",
        "    'Age': [29, 34, 41, 28, 38],\n",
        "    'Salary': [50000, 70000, 65000, 55000, 60000],\n",
        "    'Years_of_Experience': [4, 8, 10, 3, 12],\n",
        "    'Joining_Date': ['2020-03-15', '2017-07-19', '2013-06-01', '2021-02-10', '2010-11-25'],\n",
        "    'Gender': ['Female', 'Male', 'Male', 'Female', 'Male'],\n",
        "    'Bonus': [5000, 7000, 6000, 4500, 5000],\n",
        "    'Rating': [4.5, 4.0, 3.8, 4.7, 3.5]\n",
        "}\n",
        "\n",
        "emp_df = pd.DataFrame(emp_data)\n",
        "emp_df['Joining_Date'] = pd.to_datetime(emp_df['Joining_Date'])"
      ],
      "metadata": {
        "id": "Sxch-LtJ3hbf"
      },
      "execution_count": 45,
      "outputs": []
    },
    {
      "cell_type": "code",
      "source": [
        "print(emp_df.shape)"
      ],
      "metadata": {
        "colab": {
          "base_uri": "https://localhost:8080/"
        },
        "id": "vXraHWD03lPE",
        "outputId": "b1d3a6e4-f1cc-4d48-e5e0-8133cd781a91"
      },
      "execution_count": 47,
      "outputs": [
        {
          "output_type": "stream",
          "name": "stdout",
          "text": [
            "(5, 10)\n"
          ]
        }
      ]
    },
    {
      "cell_type": "code",
      "source": [
        "print(emp_df.info())"
      ],
      "metadata": {
        "colab": {
          "base_uri": "https://localhost:8080/"
        },
        "id": "PxxJ1ohd3oxa",
        "outputId": "33772701-043a-4056-8fee-2209940e4fab"
      },
      "execution_count": 48,
      "outputs": [
        {
          "output_type": "stream",
          "name": "stdout",
          "text": [
            "<class 'pandas.core.frame.DataFrame'>\n",
            "RangeIndex: 5 entries, 0 to 4\n",
            "Data columns (total 10 columns):\n",
            " #   Column               Non-Null Count  Dtype         \n",
            "---  ------               --------------  -----         \n",
            " 0   Employee_ID          5 non-null      int64         \n",
            " 1   Name                 5 non-null      object        \n",
            " 2   Department           5 non-null      object        \n",
            " 3   Age                  5 non-null      int64         \n",
            " 4   Salary               5 non-null      int64         \n",
            " 5   Years_of_Experience  5 non-null      int64         \n",
            " 6   Joining_Date         5 non-null      datetime64[ns]\n",
            " 7   Gender               5 non-null      object        \n",
            " 8   Bonus                5 non-null      int64         \n",
            " 9   Rating               5 non-null      float64       \n",
            "dtypes: datetime64[ns](1), float64(1), int64(5), object(3)\n",
            "memory usage: 532.0+ bytes\n",
            "None\n"
          ]
        }
      ]
    },
    {
      "cell_type": "code",
      "source": [
        "print(emp_df.describe(include='all'))"
      ],
      "metadata": {
        "colab": {
          "base_uri": "https://localhost:8080/"
        },
        "id": "GkAbmVt33tvZ",
        "outputId": "3d3a9abe-6dca-46f6-f397-54fca45a12f1"
      },
      "execution_count": 49,
      "outputs": [
        {
          "output_type": "stream",
          "name": "stdout",
          "text": [
            "        Employee_ID   Name Department        Age       Salary  \\\n",
            "count      5.000000      5          5   5.000000      5.00000   \n",
            "unique          NaN      5          4        NaN          NaN   \n",
            "top             NaN  Alice         IT        NaN          NaN   \n",
            "freq            NaN      1          2        NaN          NaN   \n",
            "mean     103.000000    NaN        NaN  34.000000  60000.00000   \n",
            "min      101.000000    NaN        NaN  28.000000  50000.00000   \n",
            "25%      102.000000    NaN        NaN  29.000000  55000.00000   \n",
            "50%      103.000000    NaN        NaN  34.000000  60000.00000   \n",
            "75%      104.000000    NaN        NaN  38.000000  65000.00000   \n",
            "max      105.000000    NaN        NaN  41.000000  70000.00000   \n",
            "std        1.581139    NaN        NaN   5.612486   7905.69415   \n",
            "\n",
            "        Years_of_Experience         Joining_Date Gender   Bonus    Rating  \n",
            "count              5.000000                    5      5     5.0  5.000000  \n",
            "unique                  NaN                  NaN      2     NaN       NaN  \n",
            "top                     NaN                  NaN   Male     NaN       NaN  \n",
            "freq                    NaN                  NaN      3     NaN       NaN  \n",
            "mean               7.400000  2016-08-20 00:00:00    NaN  5500.0  4.100000  \n",
            "min                3.000000  2010-11-25 00:00:00    NaN  4500.0  3.500000  \n",
            "25%                4.000000  2013-06-01 00:00:00    NaN  5000.0  3.800000  \n",
            "50%                8.000000  2017-07-19 00:00:00    NaN  5000.0  4.000000  \n",
            "75%               10.000000  2020-03-15 00:00:00    NaN  6000.0  4.500000  \n",
            "max               12.000000  2021-02-10 00:00:00    NaN  7000.0  4.700000  \n",
            "std                3.847077                  NaN    NaN  1000.0  0.494975  \n"
          ]
        }
      ]
    },
    {
      "cell_type": "code",
      "source": [
        "print(emp_df.head())\n",
        "print(emp_df.tail(3))"
      ],
      "metadata": {
        "colab": {
          "base_uri": "https://localhost:8080/"
        },
        "id": "wGwOf_E83w2n",
        "outputId": "c0ee722d-c081-4e6b-e90d-691b2b82292d"
      },
      "execution_count": 50,
      "outputs": [
        {
          "output_type": "stream",
          "name": "stdout",
          "text": [
            "   Employee_ID     Name Department  Age  Salary  Years_of_Experience  \\\n",
            "0          101    Alice         HR   29   50000                    4   \n",
            "1          102      Bob         IT   34   70000                    8   \n",
            "2          103  Charlie         IT   41   65000                   10   \n",
            "3          104    Diana  Marketing   28   55000                    3   \n",
            "4          105   Edward      Sales   38   60000                   12   \n",
            "\n",
            "  Joining_Date  Gender  Bonus  Rating  \n",
            "0   2020-03-15  Female   5000     4.5  \n",
            "1   2017-07-19    Male   7000     4.0  \n",
            "2   2013-06-01    Male   6000     3.8  \n",
            "3   2021-02-10  Female   4500     4.7  \n",
            "4   2010-11-25    Male   5000     3.5  \n",
            "   Employee_ID     Name Department  Age  Salary  Years_of_Experience  \\\n",
            "2          103  Charlie         IT   41   65000                   10   \n",
            "3          104    Diana  Marketing   28   55000                    3   \n",
            "4          105   Edward      Sales   38   60000                   12   \n",
            "\n",
            "  Joining_Date  Gender  Bonus  Rating  \n",
            "2   2013-06-01    Male   6000     3.8  \n",
            "3   2021-02-10  Female   4500     4.7  \n",
            "4   2010-11-25    Male   5000     3.5  \n"
          ]
        }
      ]
    },
    {
      "cell_type": "code",
      "source": [
        "avg_salary = emp_df['Salary'].mean()\n",
        "total_bonus = emp_df['Bonus'].sum()\n",
        "youngest_age = emp_df['Age'].min()\n",
        "highest_rating = emp_df['Rating'].max()\n",
        "\n",
        "print(f\"Average Salary: {avg_salary}\")\n",
        "print(f\"Total Bonus Paid: {total_bonus}\")\n",
        "print(f\"Youngest Age: {youngest_age}\")\n",
        "print(f\"Highest Rating: {highest_rating}\")"
      ],
      "metadata": {
        "colab": {
          "base_uri": "https://localhost:8080/"
        },
        "id": "5Vgc7e883057",
        "outputId": "5b439d5f-2d25-41c9-8d19-ce9182447103"
      },
      "execution_count": 53,
      "outputs": [
        {
          "output_type": "stream",
          "name": "stdout",
          "text": [
            "Average Salary: 60000.0\n",
            "Total Bonus Paid: 27500\n",
            "Youngest Age: 28\n",
            "Highest Rating: 4.7\n"
          ]
        }
      ]
    },
    {
      "cell_type": "code",
      "source": [
        "sorted_df = emp_df.sort_values(by='Salary', ascending=False)\n",
        "print(sorted_df)"
      ],
      "metadata": {
        "colab": {
          "base_uri": "https://localhost:8080/"
        },
        "id": "79J7TfoA35rn",
        "outputId": "b581d3dc-2b84-48b1-a9a9-d0859d41fb6c"
      },
      "execution_count": 54,
      "outputs": [
        {
          "output_type": "stream",
          "name": "stdout",
          "text": [
            "   Employee_ID     Name Department  Age  Salary  Years_of_Experience  \\\n",
            "1          102      Bob         IT   34   70000                    8   \n",
            "2          103  Charlie         IT   41   65000                   10   \n",
            "4          105   Edward      Sales   38   60000                   12   \n",
            "3          104    Diana  Marketing   28   55000                    3   \n",
            "0          101    Alice         HR   29   50000                    4   \n",
            "\n",
            "  Joining_Date  Gender  Bonus  Rating  \n",
            "1   2017-07-19    Male   7000     4.0  \n",
            "2   2013-06-01    Male   6000     3.8  \n",
            "4   2010-11-25    Male   5000     3.5  \n",
            "3   2021-02-10  Female   4500     4.7  \n",
            "0   2020-03-15  Female   5000     4.5  \n"
          ]
        }
      ]
    },
    {
      "cell_type": "code",
      "source": [
        "def performance_cat(rating):\n",
        "    if rating >= 4.5:\n",
        "        return 'Excellent'\n",
        "    elif rating >= 4.0:\n",
        "        return 'Good'\n",
        "    else:\n",
        "        return 'Average'\n",
        "\n",
        "emp_df['Performance_Category'] = emp_df['Rating'].apply(performance_cat)\n",
        "print(emp_df[['Name', 'Rating', 'Performance_Category']])"
      ],
      "metadata": {
        "colab": {
          "base_uri": "https://localhost:8080/"
        },
        "id": "oUOzzfb037wA",
        "outputId": "d299faac-6219-4b91-dc43-30adf0c15364"
      },
      "execution_count": 55,
      "outputs": [
        {
          "output_type": "stream",
          "name": "stdout",
          "text": [
            "      Name  Rating Performance_Category\n",
            "0    Alice     4.5            Excellent\n",
            "1      Bob     4.0                 Good\n",
            "2  Charlie     3.8              Average\n",
            "3    Diana     4.7            Excellent\n",
            "4   Edward     3.5              Average\n"
          ]
        }
      ]
    },
    {
      "cell_type": "code",
      "source": [
        "print(emp_df.isnull().sum())"
      ],
      "metadata": {
        "colab": {
          "base_uri": "https://localhost:8080/"
        },
        "id": "kJ8yPI4V4CAs",
        "outputId": "b7d7a37b-2415-4a4d-fcec-1350f3fc1d4a"
      },
      "execution_count": 56,
      "outputs": [
        {
          "output_type": "stream",
          "name": "stdout",
          "text": [
            "Employee_ID             0\n",
            "Name                    0\n",
            "Department              0\n",
            "Age                     0\n",
            "Salary                  0\n",
            "Years_of_Experience     0\n",
            "Joining_Date            0\n",
            "Gender                  0\n",
            "Bonus                   0\n",
            "Rating                  0\n",
            "Performance_Category    0\n",
            "dtype: int64\n"
          ]
        }
      ]
    },
    {
      "cell_type": "code",
      "source": [
        "emp_df.rename(columns={'Employee_ID': 'ID'}, inplace=True)\n",
        "print(emp_df.columns)"
      ],
      "metadata": {
        "colab": {
          "base_uri": "https://localhost:8080/"
        },
        "id": "mQEYKQGI4D1L",
        "outputId": "2ad528e1-d258-4702-def7-9c28179b711b"
      },
      "execution_count": 57,
      "outputs": [
        {
          "output_type": "stream",
          "name": "stdout",
          "text": [
            "Index(['ID', 'Name', 'Department', 'Age', 'Salary', 'Years_of_Experience',\n",
            "       'Joining_Date', 'Gender', 'Bonus', 'Rating', 'Performance_Category'],\n",
            "      dtype='object')\n"
          ]
        }
      ]
    },
    {
      "cell_type": "code",
      "source": [
        "exp_gt_5 = emp_df[emp_df['Years_of_Experience'] > 5]\n",
        "print(exp_gt_5)"
      ],
      "metadata": {
        "colab": {
          "base_uri": "https://localhost:8080/"
        },
        "id": "-bJZeQot4NJI",
        "outputId": "3792b46e-cd97-43f9-83a0-5b167da58c69"
      },
      "execution_count": 58,
      "outputs": [
        {
          "output_type": "stream",
          "name": "stdout",
          "text": [
            "    ID     Name Department  Age  Salary  Years_of_Experience Joining_Date  \\\n",
            "1  102      Bob         IT   34   70000                    8   2017-07-19   \n",
            "2  103  Charlie         IT   41   65000                   10   2013-06-01   \n",
            "4  105   Edward      Sales   38   60000                   12   2010-11-25   \n",
            "\n",
            "  Gender  Bonus  Rating Performance_Category  \n",
            "1   Male   7000     4.0                 Good  \n",
            "2   Male   6000     3.8              Average  \n",
            "4   Male   5000     3.5              Average  \n"
          ]
        }
      ]
    },
    {
      "cell_type": "code",
      "source": [
        "it_dept = emp_df[emp_df['Department'] == 'IT']\n",
        "print(it_dept)"
      ],
      "metadata": {
        "colab": {
          "base_uri": "https://localhost:8080/"
        },
        "id": "Us2ctpxQ4PoA",
        "outputId": "aebe4d34-15a6-409f-afed-30d8b11b7371"
      },
      "execution_count": 59,
      "outputs": [
        {
          "output_type": "stream",
          "name": "stdout",
          "text": [
            "    ID     Name Department  Age  Salary  Years_of_Experience Joining_Date  \\\n",
            "1  102      Bob         IT   34   70000                    8   2017-07-19   \n",
            "2  103  Charlie         IT   41   65000                   10   2013-06-01   \n",
            "\n",
            "  Gender  Bonus  Rating Performance_Category  \n",
            "1   Male   7000     4.0                 Good  \n",
            "2   Male   6000     3.8              Average  \n"
          ]
        }
      ]
    },
    {
      "cell_type": "code",
      "source": [
        "emp_df['Tax'] = emp_df['Salary'] * 0.10\n",
        "print(emp_df[['Name', 'Salary', 'Tax']])"
      ],
      "metadata": {
        "colab": {
          "base_uri": "https://localhost:8080/"
        },
        "id": "AjHgZhQY4R90",
        "outputId": "6c771f87-8d6a-407c-98a7-cd856ef61e01"
      },
      "execution_count": 60,
      "outputs": [
        {
          "output_type": "stream",
          "name": "stdout",
          "text": [
            "      Name  Salary     Tax\n",
            "0    Alice   50000  5000.0\n",
            "1      Bob   70000  7000.0\n",
            "2  Charlie   65000  6500.0\n",
            "3    Diana   55000  5500.0\n",
            "4   Edward   60000  6000.0\n"
          ]
        }
      ]
    },
    {
      "cell_type": "code",
      "source": [
        "emp_df.to_csv('employees_modified.csv', index=False)\n",
        "print(\"File saved as employees_modified.csv\")"
      ],
      "metadata": {
        "colab": {
          "base_uri": "https://localhost:8080/"
        },
        "id": "lqUK0ye74Uit",
        "outputId": "fda760d7-fd27-4e88-9a30-f76820506dac"
      },
      "execution_count": 61,
      "outputs": [
        {
          "output_type": "stream",
          "name": "stdout",
          "text": [
            "File saved as employees_modified.csv\n"
          ]
        }
      ]
    }
  ]
}