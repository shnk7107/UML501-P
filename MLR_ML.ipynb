{
 "cells": [
  {
   "cell_type": "code",
   "execution_count": 14,
   "id": "73ffbe56-da18-4e0c-9680-42b26e8f4616",
   "metadata": {},
   "outputs": [
    {
     "name": "stdout",
     "output_type": "stream",
     "text": [
      "Fold 1: R2 Score = 0.9180\n",
      "Fold 2: R2 Score = 0.9146\n",
      "Fold 3: R2 Score = 0.9116\n",
      "Fold 4: R2 Score = 0.9193\n",
      "Fold 5: R2 Score = 0.9244\n",
      "\n",
      "Average R2 Score across 5 folds: 0.9175745431092714\n",
      "Best R2 Score: 0.9243869413350316\n",
      "\n",
      "Final Model Performance using Best Beta:\n",
      "Train R2 Score: 0.9193\n",
      "Test R2 Score: 0.9147\n"
     ]
    }
   ],
   "source": [
    "import pandas as pd\n",
    "import numpy as np\n",
    "from sklearn.preprocessing import StandardScaler\n",
    "from sklearn.metrics import r2_score\n",
    "from sklearn.model_selection import KFold, train_test_split\n",
    "\n",
    "# Step a: Load dataset\n",
    "#url = \"USA_Housing.csv\"   # replace with your local file path after downloading\n",
    "df = pd.read_csv('USA_Housingg.csv')\n",
    "# Separate input features (X) and target (y)\n",
    "X = df.drop(\"Price\", axis=1).values\n",
    "y = df[\"Price\"].values.reshape(-1, 1)   #just the Price column (the target), reshaped to a 2D column vector\n",
    "\n",
    "# Step b: Scale the input features\n",
    "scaler = StandardScaler()     \n",
    "X_scaled = scaler.fit_transform(X)\n",
    "\n",
    "# Step c: 5-fold cross-validation setup\n",
    "kf = KFold(n_splits=5, shuffle=True, random_state=42)\n",
    "\n",
    "best_beta = None\n",
    "best_r2 = -np.inf     #To make sure that any real R² value we calculate is larger than our starting value, we initialize with the lowest possible value:\n",
    "r2_scores = []\n",
    "\n",
    "# Step d: Perform 5-fold CV\n",
    "for fold, (train_idx, test_idx) in enumerate(kf.split(X_scaled)):      #kf.split(X_scaled) generates 5 splits (since we used KFold(n_splits=5)).\n",
    "    X_train, X_test = X_scaled[train_idx], X_scaled[test_idx]\n",
    "    y_train, y_test = y[train_idx], y[test_idx]\n",
    "\n",
    "    # Add bias column of ones for intercept\n",
    "    X_train_bias = np.c_[np.ones((X_train.shape[0], 1)), X_train]\n",
    "    X_test_bias = np.c_[np.ones((X_test.shape[0], 1)), X_test]\n",
    "\n",
    "    # Compute beta using Least Squares: β = (XᵀX)^(-1) Xᵀy\n",
    "    beta = np.linalg.inv(X_train_bias.T @ X_train_bias) @ (X_train_bias.T @ y_train)\n",
    "     # Predictions\n",
    "    y_pred = X_test_bias @ beta\n",
    "\n",
    "    # R2 score\n",
    "    r2 = r2_score(y_test, y_pred)\n",
    "    r2_scores.append(r2)\n",
    "    print(f\"Fold {fold+1}: R2 Score = {r2:.4f}\")\n",
    "\n",
    "    # Track best beta\n",
    "    if r2 > best_r2:\n",
    "        best_r2 = r2\n",
    "        best_beta = beta\n",
    "\n",
    "print(\"\\nAverage R2 Score across 5 folds:\", np.mean(r2_scores))\n",
    "print(\"Best R2 Score:\", best_r2)\n",
    "\n",
    "# Step e: Train on 70% using best beta and test on 30%\n",
    "X_train, X_test, y_train, y_test = train_test_split(X_scaled, y, test_size=0.3, random_state=42)\n",
    "\n",
    "X_train_bias = np.c_[np.ones((X_train.shape[0], 1)), X_train]\n",
    "X_test_bias = np.c_[np.ones((X_test.shape[0], 1)), X_test]\n",
    "\n",
    "# Train using best beta on 70% data\n",
    "y_train_pred = X_train_bias @ best_beta\n",
    "y_test_pred = X_test_bias @ best_beta\n",
    "\n",
    "train_r2 = r2_score(y_train, y_train_pred)\n",
    "test_r2 = r2_score(y_test, y_test_pred)\n",
    "\n",
    "print(\"\\nFinal Model Performance using Best Beta:\")\n",
    "print(f\"Train R2 Score: {train_r2:.4f}\")\n",
    "print(f\"Test R2 Score: {test_r2:.4f}\")"
   ]
  },
  {
   "cell_type": "code",
   "execution_count": null,
   "id": "4f0a0b9b-4d45-4d21-935f-27f0cc3ce708",
   "metadata": {},
   "outputs": [],
   "source": []
  },
  {
   "cell_type": "code",
   "execution_count": null,
   "id": "7b7b87b9-5181-402b-88f3-7d95e831ec7f",
   "metadata": {},
   "outputs": [],
   "source": []
  }
 ],
 "metadata": {
  "kernelspec": {
   "display_name": "Python [conda env:base] *",
   "language": "python",
   "name": "conda-base-py"
  },
  "language_info": {
   "codemirror_mode": {
    "name": "ipython",
    "version": 3
   },
   "file_extension": ".py",
   "mimetype": "text/x-python",
   "name": "python",
   "nbconvert_exporter": "python",
   "pygments_lexer": "ipython3",
   "version": "3.13.5"
  }
 },
 "nbformat": 4,
 "nbformat_minor": 5
}
